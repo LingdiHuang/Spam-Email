{
 "cells": [
  {
   "cell_type": "code",
   "execution_count": 240,
   "metadata": {},
   "outputs": [],
   "source": [
    "import numpy as np\n",
    "import pandas as pd\n",
    "from sklearn.model_selection import train_test_split\n",
    "from sklearn.discriminant_analysis import LinearDiscriminantAnalysis, QuadraticDiscriminantAnalysis\n",
    "from sklearn.linear_model import Lasso, Ridge\n",
    "from sklearn.linear_model import ElasticNetCV, LassoCV, RidgeCV\n",
    "from sklearn.model_selection import KFold, cross_val_score\n",
    "from sklearn.metrics import accuracy_score\n",
    "import matplotlib.pyplot as plt\n",
    "from sklearn.neighbors import KNeighborsClassifier\n",
    "from sklearn.model_selection import GridSearchCV\n",
    "from sklearn.linear_model import LogisticRegression\n",
    "from sklearn.ensemble import RandomForestClassifier\n",
    "import seaborn as sns"
   ]
  },
  {
   "cell_type": "code",
   "execution_count": 7,
   "metadata": {},
   "outputs": [],
   "source": [
    "df = pd.read_csv('https://web.stanford.edu/~hastie/ElemStatLearn/datasets/spam.data',\n",
    "            header=None, sep=' ', engine='python')"
   ]
  },
  {
   "cell_type": "code",
   "execution_count": 12,
   "metadata": {},
   "outputs": [
    {
     "data": {
      "text/plain": [
       "(4601, 58)"
      ]
     },
     "execution_count": 12,
     "metadata": {},
     "output_type": "execute_result"
    }
   ],
   "source": [
    "df.shape"
   ]
  },
  {
   "cell_type": "code",
   "execution_count": 18,
   "metadata": {},
   "outputs": [],
   "source": [
    "x = df.drop(57,axis = 1)\n",
    "y = df[[57]]"
   ]
  },
  {
   "cell_type": "markdown",
   "metadata": {},
   "source": [
    "## Fit LDA"
   ]
  },
  {
   "cell_type": "code",
   "execution_count": 175,
   "metadata": {},
   "outputs": [],
   "source": [
    "lda = LinearDiscriminantAnalysis()\n",
    "train_error_LDA = []\n",
    "test_error_LDA = []\n",
    "def FitLda(x,y):\n",
    "    for i in range(101):\n",
    "        x_train, x_test, y_train, y_test = train_test_split(x,y,test_size = 2300, random_state=i)\n",
    "        model = lda.fit(x_train,y_train.values.ravel())\n",
    "        pred_test=model.predict(x_test)\n",
    "        pred_train=model.predict(x_train)\n",
    "        test_error_LDA.append(1-accuracy_score(y_test,pred_test))\n",
    "        train_error_LDA.append(1-accuracy_score(y_train,pred_train))\n",
    "    return"
   ]
  },
  {
   "cell_type": "markdown",
   "metadata": {},
   "source": [
    "## QDA"
   ]
  },
  {
   "cell_type": "code",
   "execution_count": 194,
   "metadata": {},
   "outputs": [],
   "source": [
    "qda = QuadraticDiscriminantAnalysis()\n",
    "train_error_QDA = []\n",
    "test_error_QDA = []\n",
    "def FitQda(x,y):\n",
    "    for i in range(101):\n",
    "        x_train, x_test, y_train, y_test = train_test_split(x,y,test_size = 2300, random_state=i)\n",
    "        x_train = x_train.apply(lambda i: i + np.random.normal(0,0.001,1))\n",
    "        model = qda.fit(x_train,y_train.values.ravel())\n",
    "        pred_test=model.predict(x_test)\n",
    "        pred_train=model.predict(x_train)\n",
    "        test_error_QDA.append(1-accuracy_score(y_test,pred_test))\n",
    "        train_error_QDA.append(1-accuracy_score(y_train,pred_train))\n",
    "    return"
   ]
  },
  {
   "cell_type": "markdown",
   "metadata": {},
   "source": [
    "## KNN"
   ]
  },
  {
   "cell_type": "code",
   "execution_count": 177,
   "metadata": {},
   "outputs": [],
   "source": [
    "knn = KNeighborsClassifier()\n",
    "k_range = list(range(1, 11))\n",
    "param_grid = dict(n_neighbors=k_range)\n",
    "train_error_KNN = []\n",
    "test_error_KNN = []\n",
    "best_params = []\n",
    "def FitKnn(x,y):\n",
    "    for i in range(101): \n",
    "        x_train, x_test, y_train, y_test = train_test_split(x,y,test_size = 2300, random_state=i)\n",
    "        grid = GridSearchCV(knn, param_grid, scoring = \"accuracy\",cv = 10)\n",
    "        knn_fit = grid.fit(x_train,y_train.values.ravel())\n",
    "        pred_test = knn_fit.predict(x_test)\n",
    "        pred_train = knn_fit.predict(x_train)\n",
    "        test_error_KNN.append(1-accuracy_score(y_test,pred_test))\n",
    "        train_error_KNN.append(1-accuracy_score(y_train,pred_train))\n",
    "        best_params.append(grid.best_params_)\n",
    "    return"
   ]
  },
  {
   "cell_type": "markdown",
   "metadata": {},
   "source": [
    "## LASSO Logistic"
   ]
  },
  {
   "cell_type": "code",
   "execution_count": 216,
   "metadata": {},
   "outputs": [],
   "source": [
    "log = LogisticRegression(solver='liblinear', multi_class='auto',max_iter = 2000)\n",
    "grid_lasso={\"C\":np.logspace(-3,3,7), \"penalty\":[\"l1\"]}\n",
    "train_error_lasso = []\n",
    "test_error_lasso = []\n",
    "def FitLasso(x,y):\n",
    "    for i in range(101): \n",
    "        x_train, x_test, y_train, y_test = train_test_split(x,y,test_size = 2300, random_state=i)\n",
    "        log_cv=GridSearchCV(log,grid,cv=10)\n",
    "        log_fit = log_cv.fit(x_train,y_train.values.ravel())\n",
    "        pred_test = log_fit.predict(x_test)\n",
    "        pred_train = log_fit.predict(x_train)\n",
    "        test_error_lasso.append(1-accuracy_score(y_test,pred_test))\n",
    "        train_error_lasso.append(1-accuracy_score(y_train,pred_train))\n",
    "    return"
   ]
  },
  {
   "cell_type": "markdown",
   "metadata": {},
   "source": [
    "## Ridge Logistic"
   ]
  },
  {
   "cell_type": "code",
   "execution_count": 212,
   "metadata": {},
   "outputs": [],
   "source": [
    "log = LogisticRegression(solver='liblinear', multi_class='auto',max_iter=2000)\n",
    "grid={\"C\":np.logspace(-3,3,7), \"penalty\":[\"l2\"]}\n",
    "train_error_ridge = []\n",
    "test_error_ridge = []\n",
    "def FitRidge(x,y):\n",
    "    for i in range(101): \n",
    "        x_train, x_test, y_train, y_test = train_test_split(x,y,test_size = 2300, random_state=i)\n",
    "        log_cv=GridSearchCV(log,grid,cv=10)\n",
    "        log_fit = log_cv.fit(x_train,y_train.values.ravel())\n",
    "        pred_test = log_fit.predict(x_test)\n",
    "        pred_train = log_fit.predict(x_train)\n",
    "        test_error_ridge.append(1-accuracy_score(y_test,pred_test))\n",
    "        train_error_ridge.append(1-accuracy_score(y_train,pred_train))\n",
    "    return"
   ]
  },
  {
   "cell_type": "markdown",
   "metadata": {},
   "source": [
    "## Random Forest"
   ]
  },
  {
   "cell_type": "code",
   "execution_count": 237,
   "metadata": {},
   "outputs": [],
   "source": [
    "train_error_tree = []\n",
    "test_error_tree = []\n",
    "def FitTree(x,y):\n",
    "    for i in range(101): \n",
    "        x_train, x_test, y_train, y_test = train_test_split(x,y,test_size = 2300, random_state=i)\n",
    "        model = RandomForestClassifier(n_estimators=300,bootstrap = True,max_features = 'sqrt')\n",
    "        tree_fit = model.fit(x_train,y_train.values.ravel())\n",
    "        pred_test = tree_fit.predict(x_test)\n",
    "        pred_train = tree_fit.predict(x_train)\n",
    "        test_error_tree.append(1-accuracy_score(y_test,pred_test))\n",
    "        train_error_tree.append(1-accuracy_score(y_train,pred_train))\n",
    "    return   "
   ]
  },
  {
   "cell_type": "markdown",
   "metadata": {},
   "source": [
    "## Plot Test and Training Errors"
   ]
  },
  {
   "cell_type": "code",
   "execution_count": 253,
   "metadata": {},
   "outputs": [],
   "source": [
    "df = pd.DataFrame({'train_error_LDA':train_error_LDA,'train_error_QDA':train_error_QDA,\n",
    "                  'train_error_KNN':train_error_KNN,'train_error_lasso':train_error_lasso,\n",
    "                  'train_error_ridge':train_error_ridge,'train_error_tree':train_error_tree,\n",
    "                  'test_error_LDA':test_error_LDA,'test_error_QDA':test_error_QDA,\n",
    "                  'test_error_KNN':test_error_KNN,'test_error_lasso':test_error_lasso,\n",
    "                  'test_error_ridge':test_error_ridge,'test_error_tree':test_error_tree,})"
   ]
  },
  {
   "cell_type": "code",
   "execution_count": 288,
   "metadata": {},
   "outputs": [],
   "source": [
    "df_new = df.stack().reset_index()\n",
    "df_new['Model'] = df_new['level_1'].apply(lambda x : x.split('_')[-1])\n",
    "df_new['set'] = df_new['level_1'].apply(lambda x : ' '.join(x.split('_')[:-1]))\n",
    "df_new.rename(columns={0:'Error_rate'}, inplace=True)"
   ]
  },
  {
   "cell_type": "code",
   "execution_count": 293,
   "metadata": {},
   "outputs": [],
   "source": [
    "df_train = df_new[(df_new['set']==\"train error\")]\n",
    "df_test = df_new[(df_new['set']==\"train error\")]"
   ]
  },
  {
   "cell_type": "code",
   "execution_count": 298,
   "metadata": {},
   "outputs": [
    {
     "data": {
      "image/png": "[encoded data removed]",
      "text/plain": [
       "<Figure size 432x288 with 1 Axes>"
      ]
     },
     "metadata": {
      "needs_background": "light"
     },
     "output_type": "display_data"
    }
   ],
   "source": [
    "ax = sns.boxplot(x=df_new['Model'], y = df_new['Error_rate'], data=df_new, hue=df_new['set'],showmeans=True, meanline=True, palette = \"Set3\")\n",
    "labels = ax.set_xticklabels(ax.get_xticklabels(),rotation=90)"
   ]
  }
 ],
 "metadata": {
  "kernelspec": {
   "display_name": "Python 3",
   "language": "python",
   "name": "python3"
  },
  "language_info": {
   "codemirror_mode": {
    "name": "ipython",
    "version": 3
   },
   "file_extension": ".py",
   "mimetype": "text/x-python",
   "name": "python",
   "nbconvert_exporter": "python",
   "pygments_lexer": "ipython3",
   "version": "3.7.3"
  }
 },
 "nbformat": 4,
 "nbformat_minor": 2
}
